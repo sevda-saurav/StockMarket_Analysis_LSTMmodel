{
 "cells": [
  {
   "cell_type": "markdown",
   "metadata": {},
   "source": [
    "# stockmarket-analysis"
   ]
  },
  {
   "cell_type": "code",
   "execution_count": 1,
   "metadata": {},
   "outputs": [],
   "source": [
    "import numpy as np\n",
    "import pandas as pd\n",
    "import matplotlib.pyplot as plt\n",
    "from pandas_datareader import data as pdr\n",
    "import yfinance as yf\n",
    "yf.pdr_override()\n",
    "from datetime import datetime\n",
    "start = '2010-01-01'\n",
    "end = datetime.now()"
   ]
  },
  {
   "cell_type": "code",
   "execution_count": 2,
   "metadata": {},
   "outputs": [
    {
     "name": "stdout",
     "output_type": "stream",
     "text": [
      "[*********************100%%**********************]  1 of 1 completed\n"
     ]
    }
   ],
   "source": [
    "# y_symbols = ['ZOMATO.NS','TATAPOWER.NS','ITC.NS']\n",
    "y_symbols = ['TATAPOWER.NS']\n",
    "data = pdr.get_data_yahoo(y_symbols,start,end)"
   ]
  },
  {
   "cell_type": "code",
   "execution_count": 3,
   "metadata": {},
   "outputs": [
    {
     "data": {
      "text/html": [
       "<div>\n",
       "<style scoped>\n",
       "    .dataframe tbody tr th:only-of-type {\n",
       "        vertical-align: middle;\n",
       "    }\n",
       "\n",
       "    .dataframe tbody tr th {\n",
       "        vertical-align: top;\n",
       "    }\n",
       "\n",
       "    .dataframe thead th {\n",
       "        text-align: right;\n",
       "    }\n",
       "</style>\n",
       "<table border=\"1\" class=\"dataframe\">\n",
       "  <thead>\n",
       "    <tr style=\"text-align: right;\">\n",
       "      <th></th>\n",
       "      <th>Open</th>\n",
       "      <th>High</th>\n",
       "      <th>Low</th>\n",
       "      <th>Close</th>\n",
       "      <th>Adj Close</th>\n",
       "      <th>Volume</th>\n",
       "    </tr>\n",
       "    <tr>\n",
       "      <th>Date</th>\n",
       "      <th></th>\n",
       "      <th></th>\n",
       "      <th></th>\n",
       "      <th></th>\n",
       "      <th></th>\n",
       "      <th></th>\n",
       "    </tr>\n",
       "  </thead>\n",
       "  <tbody>\n",
       "    <tr>\n",
       "      <th>2010-01-04</th>\n",
       "      <td>133.751373</td>\n",
       "      <td>135.097580</td>\n",
       "      <td>133.577682</td>\n",
       "      <td>134.079483</td>\n",
       "      <td>107.078499</td>\n",
       "      <td>3172720</td>\n",
       "    </tr>\n",
       "    <tr>\n",
       "      <th>2010-01-05</th>\n",
       "      <td>134.716400</td>\n",
       "      <td>137.997452</td>\n",
       "      <td>134.422058</td>\n",
       "      <td>136.033646</td>\n",
       "      <td>108.639137</td>\n",
       "      <td>4254349</td>\n",
       "    </tr>\n",
       "    <tr>\n",
       "      <th>2010-01-06</th>\n",
       "      <td>136.067413</td>\n",
       "      <td>144.366562</td>\n",
       "      <td>136.067413</td>\n",
       "      <td>142.344849</td>\n",
       "      <td>113.679375</td>\n",
       "      <td>8747201</td>\n",
       "    </tr>\n",
       "    <tr>\n",
       "      <th>2010-01-07</th>\n",
       "      <td>142.822540</td>\n",
       "      <td>144.945572</td>\n",
       "      <td>139.444977</td>\n",
       "      <td>142.933517</td>\n",
       "      <td>114.149506</td>\n",
       "      <td>5495560</td>\n",
       "    </tr>\n",
       "    <tr>\n",
       "      <th>2010-01-08</th>\n",
       "      <td>143.305054</td>\n",
       "      <td>144.077057</td>\n",
       "      <td>141.355713</td>\n",
       "      <td>142.856308</td>\n",
       "      <td>114.087852</td>\n",
       "      <td>3916987</td>\n",
       "    </tr>\n",
       "    <tr>\n",
       "      <th>...</th>\n",
       "      <td>...</td>\n",
       "      <td>...</td>\n",
       "      <td>...</td>\n",
       "      <td>...</td>\n",
       "      <td>...</td>\n",
       "      <td>...</td>\n",
       "    </tr>\n",
       "    <tr>\n",
       "      <th>2023-11-21</th>\n",
       "      <td>263.750000</td>\n",
       "      <td>265.399994</td>\n",
       "      <td>260.750000</td>\n",
       "      <td>262.649994</td>\n",
       "      <td>262.649994</td>\n",
       "      <td>6931541</td>\n",
       "    </tr>\n",
       "    <tr>\n",
       "      <th>2023-11-22</th>\n",
       "      <td>263.399994</td>\n",
       "      <td>263.600006</td>\n",
       "      <td>259.250000</td>\n",
       "      <td>262.100006</td>\n",
       "      <td>262.100006</td>\n",
       "      <td>4537969</td>\n",
       "    </tr>\n",
       "    <tr>\n",
       "      <th>2023-11-23</th>\n",
       "      <td>262.100006</td>\n",
       "      <td>263.750000</td>\n",
       "      <td>259.799988</td>\n",
       "      <td>260.750000</td>\n",
       "      <td>260.750000</td>\n",
       "      <td>5466513</td>\n",
       "    </tr>\n",
       "    <tr>\n",
       "      <th>2023-11-24</th>\n",
       "      <td>261.399994</td>\n",
       "      <td>261.899994</td>\n",
       "      <td>257.049988</td>\n",
       "      <td>258.149994</td>\n",
       "      <td>258.149994</td>\n",
       "      <td>7153583</td>\n",
       "    </tr>\n",
       "    <tr>\n",
       "      <th>2023-11-28</th>\n",
       "      <td>259.399994</td>\n",
       "      <td>271.399994</td>\n",
       "      <td>258.500000</td>\n",
       "      <td>270.799988</td>\n",
       "      <td>270.799988</td>\n",
       "      <td>24745437</td>\n",
       "    </tr>\n",
       "  </tbody>\n",
       "</table>\n",
       "<p>3432 rows × 6 columns</p>\n",
       "</div>"
      ],
      "text/plain": [
       "                  Open        High         Low       Close   Adj Close  \\\n",
       "Date                                                                     \n",
       "2010-01-04  133.751373  135.097580  133.577682  134.079483  107.078499   \n",
       "2010-01-05  134.716400  137.997452  134.422058  136.033646  108.639137   \n",
       "2010-01-06  136.067413  144.366562  136.067413  142.344849  113.679375   \n",
       "2010-01-07  142.822540  144.945572  139.444977  142.933517  114.149506   \n",
       "2010-01-08  143.305054  144.077057  141.355713  142.856308  114.087852   \n",
       "...                ...         ...         ...         ...         ...   \n",
       "2023-11-21  263.750000  265.399994  260.750000  262.649994  262.649994   \n",
       "2023-11-22  263.399994  263.600006  259.250000  262.100006  262.100006   \n",
       "2023-11-23  262.100006  263.750000  259.799988  260.750000  260.750000   \n",
       "2023-11-24  261.399994  261.899994  257.049988  258.149994  258.149994   \n",
       "2023-11-28  259.399994  271.399994  258.500000  270.799988  270.799988   \n",
       "\n",
       "              Volume  \n",
       "Date                  \n",
       "2010-01-04   3172720  \n",
       "2010-01-05   4254349  \n",
       "2010-01-06   8747201  \n",
       "2010-01-07   5495560  \n",
       "2010-01-08   3916987  \n",
       "...              ...  \n",
       "2023-11-21   6931541  \n",
       "2023-11-22   4537969  \n",
       "2023-11-23   5466513  \n",
       "2023-11-24   7153583  \n",
       "2023-11-28  24745437  \n",
       "\n",
       "[3432 rows x 6 columns]"
      ]
     },
     "execution_count": 3,
     "metadata": {},
     "output_type": "execute_result"
    }
   ],
   "source": [
    "data"
   ]
  },
  {
   "cell_type": "code",
   "execution_count": 4,
   "metadata": {},
   "outputs": [
    {
     "data": {
      "text/html": [
       "<div>\n",
       "<style scoped>\n",
       "    .dataframe tbody tr th:only-of-type {\n",
       "        vertical-align: middle;\n",
       "    }\n",
       "\n",
       "    .dataframe tbody tr th {\n",
       "        vertical-align: top;\n",
       "    }\n",
       "\n",
       "    .dataframe thead th {\n",
       "        text-align: right;\n",
       "    }\n",
       "</style>\n",
       "<table border=\"1\" class=\"dataframe\">\n",
       "  <thead>\n",
       "    <tr style=\"text-align: right;\">\n",
       "      <th></th>\n",
       "      <th>Open</th>\n",
       "      <th>High</th>\n",
       "      <th>Low</th>\n",
       "      <th>Close</th>\n",
       "      <th>Adj Close</th>\n",
       "      <th>Volume</th>\n",
       "    </tr>\n",
       "  </thead>\n",
       "  <tbody>\n",
       "    <tr>\n",
       "      <th>count</th>\n",
       "      <td>3432.000000</td>\n",
       "      <td>3432.000000</td>\n",
       "      <td>3432.000000</td>\n",
       "      <td>3432.000000</td>\n",
       "      <td>3432.000000</td>\n",
       "      <td>3.432000e+03</td>\n",
       "    </tr>\n",
       "    <tr>\n",
       "      <th>mean</th>\n",
       "      <td>108.419163</td>\n",
       "      <td>109.922223</td>\n",
       "      <td>106.665704</td>\n",
       "      <td>108.211698</td>\n",
       "      <td>97.806188</td>\n",
       "      <td>1.123005e+07</td>\n",
       "    </tr>\n",
       "    <tr>\n",
       "      <th>std</th>\n",
       "      <td>55.613899</td>\n",
       "      <td>56.267368</td>\n",
       "      <td>54.823936</td>\n",
       "      <td>55.512176</td>\n",
       "      <td>57.333231</td>\n",
       "      <td>2.032126e+07</td>\n",
       "    </tr>\n",
       "    <tr>\n",
       "      <th>min</th>\n",
       "      <td>27.250000</td>\n",
       "      <td>28.600000</td>\n",
       "      <td>27.000000</td>\n",
       "      <td>27.299999</td>\n",
       "      <td>25.675718</td>\n",
       "      <td>0.000000e+00</td>\n",
       "    </tr>\n",
       "    <tr>\n",
       "      <th>25%</th>\n",
       "      <td>74.000000</td>\n",
       "      <td>75.000000</td>\n",
       "      <td>72.737499</td>\n",
       "      <td>73.900002</td>\n",
       "      <td>64.337946</td>\n",
       "      <td>2.883399e+06</td>\n",
       "    </tr>\n",
       "    <tr>\n",
       "      <th>50%</th>\n",
       "      <td>87.720062</td>\n",
       "      <td>88.800003</td>\n",
       "      <td>86.103657</td>\n",
       "      <td>87.391151</td>\n",
       "      <td>74.826279</td>\n",
       "      <td>4.785414e+06</td>\n",
       "    </tr>\n",
       "    <tr>\n",
       "      <th>75%</th>\n",
       "      <td>123.400002</td>\n",
       "      <td>125.273701</td>\n",
       "      <td>121.750000</td>\n",
       "      <td>123.546322</td>\n",
       "      <td>101.069515</td>\n",
       "      <td>1.005400e+07</td>\n",
       "    </tr>\n",
       "    <tr>\n",
       "      <th>max</th>\n",
       "      <td>292.350006</td>\n",
       "      <td>298.049988</td>\n",
       "      <td>280.350006</td>\n",
       "      <td>289.799988</td>\n",
       "      <td>284.846130</td>\n",
       "      <td>3.606618e+08</td>\n",
       "    </tr>\n",
       "  </tbody>\n",
       "</table>\n",
       "</div>"
      ],
      "text/plain": [
       "              Open         High          Low        Close    Adj Close  \\\n",
       "count  3432.000000  3432.000000  3432.000000  3432.000000  3432.000000   \n",
       "mean    108.419163   109.922223   106.665704   108.211698    97.806188   \n",
       "std      55.613899    56.267368    54.823936    55.512176    57.333231   \n",
       "min      27.250000    28.600000    27.000000    27.299999    25.675718   \n",
       "25%      74.000000    75.000000    72.737499    73.900002    64.337946   \n",
       "50%      87.720062    88.800003    86.103657    87.391151    74.826279   \n",
       "75%     123.400002   125.273701   121.750000   123.546322   101.069515   \n",
       "max     292.350006   298.049988   280.350006   289.799988   284.846130   \n",
       "\n",
       "             Volume  \n",
       "count  3.432000e+03  \n",
       "mean   1.123005e+07  \n",
       "std    2.032126e+07  \n",
       "min    0.000000e+00  \n",
       "25%    2.883399e+06  \n",
       "50%    4.785414e+06  \n",
       "75%    1.005400e+07  \n",
       "max    3.606618e+08  "
      ]
     },
     "execution_count": 4,
     "metadata": {},
     "output_type": "execute_result"
    }
   ],
   "source": [
    "data.describe()"
   ]
  },
  {
   "cell_type": "code",
   "execution_count": 5,
   "metadata": {},
   "outputs": [
    {
     "data": {
      "text/html": [
       "<div>\n",
       "<style scoped>\n",
       "    .dataframe tbody tr th:only-of-type {\n",
       "        vertical-align: middle;\n",
       "    }\n",
       "\n",
       "    .dataframe tbody tr th {\n",
       "        vertical-align: top;\n",
       "    }\n",
       "\n",
       "    .dataframe thead th {\n",
       "        text-align: right;\n",
       "    }\n",
       "</style>\n",
       "<table border=\"1\" class=\"dataframe\">\n",
       "  <thead>\n",
       "    <tr style=\"text-align: right;\">\n",
       "      <th></th>\n",
       "      <th>Date</th>\n",
       "      <th>Open</th>\n",
       "      <th>High</th>\n",
       "      <th>Low</th>\n",
       "      <th>Close</th>\n",
       "      <th>Adj Close</th>\n",
       "      <th>Volume</th>\n",
       "    </tr>\n",
       "  </thead>\n",
       "  <tbody>\n",
       "    <tr>\n",
       "      <th>0</th>\n",
       "      <td>2010-01-04</td>\n",
       "      <td>133.751373</td>\n",
       "      <td>135.097580</td>\n",
       "      <td>133.577682</td>\n",
       "      <td>134.079483</td>\n",
       "      <td>107.078499</td>\n",
       "      <td>3172720</td>\n",
       "    </tr>\n",
       "    <tr>\n",
       "      <th>1</th>\n",
       "      <td>2010-01-05</td>\n",
       "      <td>134.716400</td>\n",
       "      <td>137.997452</td>\n",
       "      <td>134.422058</td>\n",
       "      <td>136.033646</td>\n",
       "      <td>108.639137</td>\n",
       "      <td>4254349</td>\n",
       "    </tr>\n",
       "    <tr>\n",
       "      <th>2</th>\n",
       "      <td>2010-01-06</td>\n",
       "      <td>136.067413</td>\n",
       "      <td>144.366562</td>\n",
       "      <td>136.067413</td>\n",
       "      <td>142.344849</td>\n",
       "      <td>113.679375</td>\n",
       "      <td>8747201</td>\n",
       "    </tr>\n",
       "    <tr>\n",
       "      <th>3</th>\n",
       "      <td>2010-01-07</td>\n",
       "      <td>142.822540</td>\n",
       "      <td>144.945572</td>\n",
       "      <td>139.444977</td>\n",
       "      <td>142.933517</td>\n",
       "      <td>114.149506</td>\n",
       "      <td>5495560</td>\n",
       "    </tr>\n",
       "    <tr>\n",
       "      <th>4</th>\n",
       "      <td>2010-01-08</td>\n",
       "      <td>143.305054</td>\n",
       "      <td>144.077057</td>\n",
       "      <td>141.355713</td>\n",
       "      <td>142.856308</td>\n",
       "      <td>114.087852</td>\n",
       "      <td>3916987</td>\n",
       "    </tr>\n",
       "  </tbody>\n",
       "</table>\n",
       "</div>"
      ],
      "text/plain": [
       "        Date        Open        High         Low       Close   Adj Close  \\\n",
       "0 2010-01-04  133.751373  135.097580  133.577682  134.079483  107.078499   \n",
       "1 2010-01-05  134.716400  137.997452  134.422058  136.033646  108.639137   \n",
       "2 2010-01-06  136.067413  144.366562  136.067413  142.344849  113.679375   \n",
       "3 2010-01-07  142.822540  144.945572  139.444977  142.933517  114.149506   \n",
       "4 2010-01-08  143.305054  144.077057  141.355713  142.856308  114.087852   \n",
       "\n",
       "    Volume  \n",
       "0  3172720  \n",
       "1  4254349  \n",
       "2  8747201  \n",
       "3  5495560  \n",
       "4  3916987  "
      ]
     },
     "execution_count": 5,
     "metadata": {},
     "output_type": "execute_result"
    }
   ],
   "source": [
    "data = data.reset_index()\n",
    "data.head()"
   ]
  },
  {
   "cell_type": "code",
   "execution_count": 6,
   "metadata": {},
   "outputs": [
    {
     "data": {
      "text/html": [
       "<div>\n",
       "<style scoped>\n",
       "    .dataframe tbody tr th:only-of-type {\n",
       "        vertical-align: middle;\n",
       "    }\n",
       "\n",
       "    .dataframe tbody tr th {\n",
       "        vertical-align: top;\n",
       "    }\n",
       "\n",
       "    .dataframe thead th {\n",
       "        text-align: right;\n",
       "    }\n",
       "</style>\n",
       "<table border=\"1\" class=\"dataframe\">\n",
       "  <thead>\n",
       "    <tr style=\"text-align: right;\">\n",
       "      <th></th>\n",
       "      <th>Open</th>\n",
       "      <th>High</th>\n",
       "      <th>Low</th>\n",
       "      <th>Close</th>\n",
       "      <th>Volume</th>\n",
       "    </tr>\n",
       "  </thead>\n",
       "  <tbody>\n",
       "    <tr>\n",
       "      <th>0</th>\n",
       "      <td>133.751373</td>\n",
       "      <td>135.097580</td>\n",
       "      <td>133.577682</td>\n",
       "      <td>134.079483</td>\n",
       "      <td>3172720</td>\n",
       "    </tr>\n",
       "    <tr>\n",
       "      <th>1</th>\n",
       "      <td>134.716400</td>\n",
       "      <td>137.997452</td>\n",
       "      <td>134.422058</td>\n",
       "      <td>136.033646</td>\n",
       "      <td>4254349</td>\n",
       "    </tr>\n",
       "    <tr>\n",
       "      <th>2</th>\n",
       "      <td>136.067413</td>\n",
       "      <td>144.366562</td>\n",
       "      <td>136.067413</td>\n",
       "      <td>142.344849</td>\n",
       "      <td>8747201</td>\n",
       "    </tr>\n",
       "    <tr>\n",
       "      <th>3</th>\n",
       "      <td>142.822540</td>\n",
       "      <td>144.945572</td>\n",
       "      <td>139.444977</td>\n",
       "      <td>142.933517</td>\n",
       "      <td>5495560</td>\n",
       "    </tr>\n",
       "    <tr>\n",
       "      <th>4</th>\n",
       "      <td>143.305054</td>\n",
       "      <td>144.077057</td>\n",
       "      <td>141.355713</td>\n",
       "      <td>142.856308</td>\n",
       "      <td>3916987</td>\n",
       "    </tr>\n",
       "  </tbody>\n",
       "</table>\n",
       "</div>"
      ],
      "text/plain": [
       "         Open        High         Low       Close   Volume\n",
       "0  133.751373  135.097580  133.577682  134.079483  3172720\n",
       "1  134.716400  137.997452  134.422058  136.033646  4254349\n",
       "2  136.067413  144.366562  136.067413  142.344849  8747201\n",
       "3  142.822540  144.945572  139.444977  142.933517  5495560\n",
       "4  143.305054  144.077057  141.355713  142.856308  3916987"
      ]
     },
     "execution_count": 6,
     "metadata": {},
     "output_type": "execute_result"
    }
   ],
   "source": [
    "data = data.drop(['Date', 'Adj Close'], axis=1)\n",
    "data.head()"
   ]
  },
  {
   "cell_type": "code",
   "execution_count": 7,
   "metadata": {},
   "outputs": [
    {
     "data": {
      "text/plain": [
       "[<matplotlib.lines.Line2D at 0x23f39726b20>]"
      ]
     },
     "execution_count": 7,
     "metadata": {},
     "output_type": "execute_result"
    },
    {
     "data": {
      "image/png": "[encoded data removed]",
      "text/plain": [
       "<Figure size 432x288 with 1 Axes>"
      ]
     },
     "metadata": {
      "needs_background": "light"
     },
     "output_type": "display_data"
    }
   ],
   "source": [
    "plt.plot(data.Close)"
   ]
  },
  {
   "cell_type": "code",
   "execution_count": 8,
   "metadata": {},
   "outputs": [
    {
     "data": {
      "text/plain": [
       "0            NaN\n",
       "1            NaN\n",
       "2            NaN\n",
       "3            NaN\n",
       "4            NaN\n",
       "          ...   \n",
       "3427    243.8450\n",
       "3428    244.2735\n",
       "3429    244.6885\n",
       "3430    245.0515\n",
       "3431    245.5405\n",
       "Name: Close, Length: 3432, dtype: float64"
      ]
     },
     "execution_count": 8,
     "metadata": {},
     "output_type": "execute_result"
    }
   ],
   "source": [
    "# MA moving average 100 days\n",
    "ma100 = data.Close.rolling(100).mean()\n",
    "ma100"
   ]
  },
  {
   "cell_type": "code",
   "execution_count": 9,
   "metadata": {},
   "outputs": [
    {
     "data": {
      "text/plain": [
       "[<matplotlib.lines.Line2D at 0x23f3b7e3a30>]"
      ]
     },
     "execution_count": 9,
     "metadata": {},
     "output_type": "execute_result"
    },
    {
     "data": {
      "image/png": "[encoded data removed]",
      "text/plain": [
       "<Figure size 864x432 with 1 Axes>"
      ]
     },
     "metadata": {
      "needs_background": "light"
     },
     "output_type": "display_data"
    }
   ],
   "source": [
    "plt.figure(figsize=(12,6))\n",
    "plt.plot(data.Close)\n",
    "plt.plot(ma100, 'r')"
   ]
  },
  {
   "cell_type": "code",
   "execution_count": 10,
   "metadata": {},
   "outputs": [
    {
     "data": {
      "text/plain": [
       "0             NaN\n",
       "1             NaN\n",
       "2             NaN\n",
       "3             NaN\n",
       "4             NaN\n",
       "          ...    \n",
       "3427    224.92075\n",
       "3428    225.20950\n",
       "3429    225.44875\n",
       "3430    225.71025\n",
       "3431    226.03275\n",
       "Name: Close, Length: 3432, dtype: float64"
      ]
     },
     "execution_count": 10,
     "metadata": {},
     "output_type": "execute_result"
    }
   ],
   "source": [
    "# 200 days moving average\n",
    "ma200 = data.Close.rolling(200).mean()\n",
    "ma200"
   ]
  },
  {
   "cell_type": "code",
   "execution_count": 11,
   "metadata": {},
   "outputs": [
    {
     "data": {
      "text/plain": [
       "[<matplotlib.lines.Line2D at 0x23f3b82a130>]"
      ]
     },
     "execution_count": 11,
     "metadata": {},
     "output_type": "execute_result"
    },
    {
     "data": {
      "image/png": "[encoded data removed]",
      "text/plain": [
       "<Figure size 1080x504 with 1 Axes>"
      ]
     },
     "metadata": {
      "needs_background": "light"
     },
     "output_type": "display_data"
    }
   ],
   "source": [
    "plt.figure(figsize=(15,7))\n",
    "plt.plot(data.Close)\n",
    "plt.plot(ma100, 'r')\n",
    "plt.plot(ma200, 'g')"
   ]
  },
  {
   "cell_type": "code",
   "execution_count": 12,
   "metadata": {},
   "outputs": [
    {
     "data": {
      "text/plain": [
       "(3432, 5)"
      ]
     },
     "execution_count": 12,
     "metadata": {},
     "output_type": "execute_result"
    }
   ],
   "source": [
    "data.shape"
   ]
  },
  {
   "cell_type": "code",
   "execution_count": 13,
   "metadata": {},
   "outputs": [
    {
     "name": "stdout",
     "output_type": "stream",
     "text": [
      "(2402, 1)\n",
      "(1030, 1)\n"
     ]
    }
   ],
   "source": [
    "# spliting our data into testing and training\n",
    "\n",
    "data_tarining = pd.DataFrame(data['Close'][0:int(len(data)*0.70)])\n",
    "data_testing = pd.DataFrame(data['Close'][int(len(data)*0.70): int(len(data))])\n",
    "\n",
    "print(data_tarining.shape)\n",
    "print(data_testing.shape)"
   ]
  },
  {
   "cell_type": "code",
   "execution_count": 14,
   "metadata": {},
   "outputs": [
    {
     "data": {
      "text/html": [
       "<div>\n",
       "<style scoped>\n",
       "    .dataframe tbody tr th:only-of-type {\n",
       "        vertical-align: middle;\n",
       "    }\n",
       "\n",
       "    .dataframe tbody tr th {\n",
       "        vertical-align: top;\n",
       "    }\n",
       "\n",
       "    .dataframe thead th {\n",
       "        text-align: right;\n",
       "    }\n",
       "</style>\n",
       "<table border=\"1\" class=\"dataframe\">\n",
       "  <thead>\n",
       "    <tr style=\"text-align: right;\">\n",
       "      <th></th>\n",
       "      <th>Close</th>\n",
       "    </tr>\n",
       "  </thead>\n",
       "  <tbody>\n",
       "    <tr>\n",
       "      <th>0</th>\n",
       "      <td>134.079483</td>\n",
       "    </tr>\n",
       "    <tr>\n",
       "      <th>1</th>\n",
       "      <td>136.033646</td>\n",
       "    </tr>\n",
       "    <tr>\n",
       "      <th>2</th>\n",
       "      <td>142.344849</td>\n",
       "    </tr>\n",
       "    <tr>\n",
       "      <th>3</th>\n",
       "      <td>142.933517</td>\n",
       "    </tr>\n",
       "    <tr>\n",
       "      <th>4</th>\n",
       "      <td>142.856308</td>\n",
       "    </tr>\n",
       "  </tbody>\n",
       "</table>\n",
       "</div>"
      ],
      "text/plain": [
       "        Close\n",
       "0  134.079483\n",
       "1  136.033646\n",
       "2  142.344849\n",
       "3  142.933517\n",
       "4  142.856308"
      ]
     },
     "execution_count": 14,
     "metadata": {},
     "output_type": "execute_result"
    }
   ],
   "source": [
    "data_tarining.head()"
   ]
  },
  {
   "cell_type": "code",
   "execution_count": 15,
   "metadata": {},
   "outputs": [
    {
     "data": {
      "text/html": [
       "<div>\n",
       "<style scoped>\n",
       "    .dataframe tbody tr th:only-of-type {\n",
       "        vertical-align: middle;\n",
       "    }\n",
       "\n",
       "    .dataframe tbody tr th {\n",
       "        vertical-align: top;\n",
       "    }\n",
       "\n",
       "    .dataframe thead th {\n",
       "        text-align: right;\n",
       "    }\n",
       "</style>\n",
       "<table border=\"1\" class=\"dataframe\">\n",
       "  <thead>\n",
       "    <tr style=\"text-align: right;\">\n",
       "      <th></th>\n",
       "      <th>Close</th>\n",
       "    </tr>\n",
       "  </thead>\n",
       "  <tbody>\n",
       "    <tr>\n",
       "      <th>2402</th>\n",
       "      <td>59.349998</td>\n",
       "    </tr>\n",
       "    <tr>\n",
       "      <th>2403</th>\n",
       "      <td>58.000000</td>\n",
       "    </tr>\n",
       "    <tr>\n",
       "      <th>2404</th>\n",
       "      <td>58.200001</td>\n",
       "    </tr>\n",
       "    <tr>\n",
       "      <th>2405</th>\n",
       "      <td>61.450001</td>\n",
       "    </tr>\n",
       "    <tr>\n",
       "      <th>2406</th>\n",
       "      <td>61.599998</td>\n",
       "    </tr>\n",
       "  </tbody>\n",
       "</table>\n",
       "</div>"
      ],
      "text/plain": [
       "          Close\n",
       "2402  59.349998\n",
       "2403  58.000000\n",
       "2404  58.200001\n",
       "2405  61.450001\n",
       "2406  61.599998"
      ]
     },
     "execution_count": 15,
     "metadata": {},
     "output_type": "execute_result"
    }
   ],
   "source": [
    "data_testing.head()"
   ]
  },
  {
   "cell_type": "code",
   "execution_count": 16,
   "metadata": {},
   "outputs": [
    {
     "name": "stderr",
     "output_type": "stream",
     "text": [
      "C:\\Users\\panka\\anaconda3\\lib\\site-packages\\scipy\\__init__.py:146: UserWarning: A NumPy version >=1.16.5 and <1.23.0 is required for this version of SciPy (detected version 1.26.2\n",
      "  warnings.warn(f\"A NumPy version >={np_minversion} and <{np_maxversion}\"\n"
     ]
    }
   ],
   "source": [
    "from sklearn.preprocessing import MinMaxScaler\n",
    "scaler = MinMaxScaler(feature_range=(0,1))"
   ]
  },
  {
   "cell_type": "code",
   "execution_count": 17,
   "metadata": {},
   "outputs": [
    {
     "data": {
      "text/plain": [
       "array([[0.89540002],\n",
       "       [0.91648664],\n",
       "       [0.98458843],\n",
       "       ...,\n",
       "       [0.11869681],\n",
       "       [0.12301307],\n",
       "       [0.08902261]])"
      ]
     },
     "execution_count": 17,
     "metadata": {},
     "output_type": "execute_result"
    }
   ],
   "source": [
    "data_training_array = scaler.fit_transform(data_tarining)\n",
    "data_training_array"
   ]
  },
  {
   "cell_type": "code",
   "execution_count": 18,
   "metadata": {},
   "outputs": [
    {
     "data": {
      "text/plain": [
       "(2402, 1)"
      ]
     },
     "execution_count": 18,
     "metadata": {},
     "output_type": "execute_result"
    }
   ],
   "source": [
    "data_training_array.shape"
   ]
  },
  {
   "cell_type": "code",
   "execution_count": 19,
   "metadata": {},
   "outputs": [],
   "source": [
    "x_train = []\n",
    "y_train = [] \n",
    "\n",
    "for i in range (100, data_training_array.shape[0]):\n",
    "    x_train.append(data_training_array[i-100:i])\n",
    "    y_train.append(data_training_array[i,0])\n",
    "    \n",
    "x_train, y_train = np.array(x_train), np.array(y_train)"
   ]
  },
  {
   "cell_type": "code",
   "execution_count": 20,
   "metadata": {},
   "outputs": [
    {
     "name": "stdout",
     "output_type": "stream",
     "text": [
      "WARNING:tensorflow:From C:\\Users\\panka\\anaconda3\\lib\\site-packages\\keras\\src\\losses.py:2976: The name tf.losses.sparse_softmax_cross_entropy is deprecated. Please use tf.compat.v1.losses.sparse_softmax_cross_entropy instead.\n",
      "\n"
     ]
    }
   ],
   "source": [
    "# ML Model\n",
    "from keras.layers import Dense, Dropout, LSTM\n",
    "from keras.models import Sequential"
   ]
  },
  {
   "cell_type": "code",
   "execution_count": 21,
   "metadata": {},
   "outputs": [
    {
     "name": "stdout",
     "output_type": "stream",
     "text": [
      "WARNING:tensorflow:From C:\\Users\\panka\\anaconda3\\lib\\site-packages\\keras\\src\\backend.py:873: The name tf.get_default_graph is deprecated. Please use tf.compat.v1.get_default_graph instead.\n",
      "\n"
     ]
    }
   ],
   "source": [
    "model = Sequential()\n",
    "\n",
    "model.add(LSTM(units = 50, activation = 'relu', return_sequences = True,\n",
    "             input_shape=(x_train.shape[1],1)))\n",
    "model.add(Dropout(0.2))\n",
    "\n",
    "\n",
    "model.add(LSTM(units = 60, activation = 'relu', return_sequences = True))\n",
    "model.add(Dropout(0.3))\n",
    "\n",
    "\n",
    "model.add(LSTM(units = 80, activation = 'relu', return_sequences = True))\n",
    "model.add(Dropout(0.4))\n",
    "\n",
    "\n",
    "model.add(LSTM(units = 120, activation = 'relu'))\n",
    "model.add(Dropout(0.5))\n",
    "\n",
    "\n",
    "model.add(Dense(units=1))"
   ]
  },
  {
   "cell_type": "code",
   "execution_count": 22,
   "metadata": {},
   "outputs": [
    {
     "name": "stdout",
     "output_type": "stream",
     "text": [
      "Model: \"sequential\"\n",
      "_________________________________________________________________\n",
      " Layer (type)                Output Shape              Param #   \n",
      "=================================================================\n",
      " lstm (LSTM)                 (None, 100, 50)           10400     \n",
      "                                                                 \n",
      " dropout (Dropout)           (None, 100, 50)           0         \n",
      "                                                                 \n",
      " lstm_1 (LSTM)               (None, 100, 60)           26640     \n",
      "                                                                 \n",
      " dropout_1 (Dropout)         (None, 100, 60)           0         \n",
      "                                                                 \n",
      " lstm_2 (LSTM)               (None, 100, 80)           45120     \n",
      "                                                                 \n",
      " dropout_2 (Dropout)         (None, 100, 80)           0         \n",
      "                                                                 \n",
      " lstm_3 (LSTM)               (None, 120)               96480     \n",
      "                                                                 \n",
      " dropout_3 (Dropout)         (None, 120)               0         \n",
      "                                                                 \n",
      " dense (Dense)               (None, 1)                 121       \n",
      "                                                                 \n",
      "=================================================================\n",
      "Total params: 178761 (698.29 KB)\n",
      "Trainable params: 178761 (698.29 KB)\n",
      "Non-trainable params: 0 (0.00 Byte)\n",
      "_________________________________________________________________\n"
     ]
    }
   ],
   "source": [
    "model.summary()"
   ]
  },
  {
   "cell_type": "code",
   "execution_count": 23,
   "metadata": {},
   "outputs": [
    {
     "name": "stdout",
     "output_type": "stream",
     "text": [
      "WARNING:tensorflow:From C:\\Users\\panka\\anaconda3\\lib\\site-packages\\keras\\src\\optimizers\\__init__.py:309: The name tf.train.Optimizer is deprecated. Please use tf.compat.v1.train.Optimizer instead.\n",
      "\n",
      "Epoch 1/50\n",
      "WARNING:tensorflow:From C:\\Users\\panka\\anaconda3\\lib\\site-packages\\keras\\src\\utils\\tf_utils.py:492: The name tf.ragged.RaggedTensorValue is deprecated. Please use tf.compat.v1.ragged.RaggedTensorValue instead.\n",
      "\n",
      "72/72 [==============================] - 27s 262ms/step - loss: 0.0285\n",
      "Epoch 2/50\n",
      "72/72 [==============================] - 18s 254ms/step - loss: 0.0099\n",
      "Epoch 3/50\n",
      "72/72 [==============================] - 20s 275ms/step - loss: 0.0078\n",
      "Epoch 4/50\n",
      "72/72 [==============================] - 20s 281ms/step - loss: 0.0075\n",
      "Epoch 5/50\n",
      "72/72 [==============================] - 19s 269ms/step - loss: 0.0075\n",
      "Epoch 6/50\n",
      "72/72 [==============================] - 20s 272ms/step - loss: 0.0076\n",
      "Epoch 7/50\n",
      "72/72 [==============================] - 19s 263ms/step - loss: 0.0065\n",
      "Epoch 8/50\n",
      "72/72 [==============================] - 19s 258ms/step - loss: 0.0060\n",
      "Epoch 9/50\n",
      "72/72 [==============================] - 18s 256ms/step - loss: 0.0052\n",
      "Epoch 10/50\n",
      "72/72 [==============================] - 19s 270ms/step - loss: 0.0054\n",
      "Epoch 11/50\n",
      "72/72 [==============================] - 20s 281ms/step - loss: 0.0049\n",
      "Epoch 12/50\n",
      "72/72 [==============================] - 19s 263ms/step - loss: 0.0047\n",
      "Epoch 13/50\n",
      "72/72 [==============================] - 19s 264ms/step - loss: 0.0040\n",
      "Epoch 14/50\n",
      "72/72 [==============================] - 19s 261ms/step - loss: 0.0042\n",
      "Epoch 15/50\n",
      "72/72 [==============================] - 19s 268ms/step - loss: 0.0041\n",
      "Epoch 16/50\n",
      "72/72 [==============================] - 20s 273ms/step - loss: 0.0040\n",
      "Epoch 17/50\n",
      "72/72 [==============================] - 19s 260ms/step - loss: 0.0038\n",
      "Epoch 18/50\n",
      "72/72 [==============================] - 18s 257ms/step - loss: 0.0043\n",
      "Epoch 19/50\n",
      "72/72 [==============================] - 18s 257ms/step - loss: 0.0034\n",
      "Epoch 20/50\n",
      "72/72 [==============================] - 18s 256ms/step - loss: 0.0034\n",
      "Epoch 21/50\n",
      "72/72 [==============================] - 18s 256ms/step - loss: 0.0035\n",
      "Epoch 22/50\n",
      "72/72 [==============================] - 19s 258ms/step - loss: 0.0030\n",
      "Epoch 23/50\n",
      "72/72 [==============================] - 19s 259ms/step - loss: 0.0031\n",
      "Epoch 24/50\n",
      "72/72 [==============================] - 18s 253ms/step - loss: 0.0029\n",
      "Epoch 25/50\n",
      "72/72 [==============================] - 19s 259ms/step - loss: 0.0027\n",
      "Epoch 26/50\n",
      "72/72 [==============================] - 19s 258ms/step - loss: 0.0029\n",
      "Epoch 27/50\n",
      "72/72 [==============================] - 19s 264ms/step - loss: 0.0027\n",
      "Epoch 28/50\n",
      "72/72 [==============================] - 19s 263ms/step - loss: 0.0027\n",
      "Epoch 29/50\n",
      "72/72 [==============================] - 19s 258ms/step - loss: 0.0026\n",
      "Epoch 30/50\n",
      "72/72 [==============================] - 19s 259ms/step - loss: 0.0026\n",
      "Epoch 31/50\n",
      "72/72 [==============================] - 19s 259ms/step - loss: 0.0029\n",
      "Epoch 32/50\n",
      "72/72 [==============================] - 19s 259ms/step - loss: 0.0026\n",
      "Epoch 33/50\n",
      "72/72 [==============================] - 19s 260ms/step - loss: 0.0024\n",
      "Epoch 34/50\n",
      "72/72 [==============================] - 18s 254ms/step - loss: 0.0026\n",
      "Epoch 35/50\n",
      "72/72 [==============================] - 19s 259ms/step - loss: 0.0024\n",
      "Epoch 36/50\n",
      "72/72 [==============================] - 18s 256ms/step - loss: 0.0024\n",
      "Epoch 37/50\n",
      "72/72 [==============================] - 19s 257ms/step - loss: 0.0023\n",
      "Epoch 38/50\n",
      "72/72 [==============================] - 18s 257ms/step - loss: 0.0024\n",
      "Epoch 39/50\n",
      "72/72 [==============================] - 18s 255ms/step - loss: 0.0025\n",
      "Epoch 40/50\n",
      "72/72 [==============================] - 19s 257ms/step - loss: 0.0024\n",
      "Epoch 41/50\n",
      "72/72 [==============================] - 18s 256ms/step - loss: 0.0023\n",
      "Epoch 42/50\n",
      "72/72 [==============================] - 20s 283ms/step - loss: 0.0024\n",
      "Epoch 43/50\n",
      "72/72 [==============================] - 22s 299ms/step - loss: 0.0021\n",
      "Epoch 44/50\n",
      "72/72 [==============================] - 20s 276ms/step - loss: 0.0023\n",
      "Epoch 45/50\n",
      "72/72 [==============================] - 19s 257ms/step - loss: 0.0022\n",
      "Epoch 46/50\n",
      "72/72 [==============================] - 18s 257ms/step - loss: 0.0023\n",
      "Epoch 47/50\n",
      "72/72 [==============================] - 19s 260ms/step - loss: 0.0022\n",
      "Epoch 48/50\n",
      "72/72 [==============================] - 18s 255ms/step - loss: 0.0021\n",
      "Epoch 49/50\n",
      "72/72 [==============================] - 19s 260ms/step - loss: 0.0022\n",
      "Epoch 50/50\n",
      "72/72 [==============================] - 18s 255ms/step - loss: 0.0021\n"
     ]
    },
    {
     "data": {
      "text/plain": [
       "<keras.src.callbacks.History at 0x23f46405cd0>"
      ]
     },
     "execution_count": 23,
     "metadata": {},
     "output_type": "execute_result"
    }
   ],
   "source": [
    "model.compile(optimizer='adam', loss = 'mean_squared_error')\n",
    "model.fit(x_train, y_train, epochs=50)"
   ]
  },
  {
   "cell_type": "code",
   "execution_count": 24,
   "metadata": {},
   "outputs": [
    {
     "name": "stderr",
     "output_type": "stream",
     "text": [
      "C:\\Users\\panka\\anaconda3\\lib\\site-packages\\keras\\src\\engine\\training.py:3103: UserWarning: You are saving your model as an HDF5 file via `model.save()`. This file format is considered legacy. We recommend using instead the native Keras format, e.g. `model.save('my_model.keras')`.\n",
      "  saving_api.save_model(\n"
     ]
    }
   ],
   "source": [
    "model.save('keras_model.h5')"
   ]
  },
  {
   "cell_type": "code",
   "execution_count": 25,
   "metadata": {},
   "outputs": [],
   "source": [
    "import jovian"
   ]
  },
  {
   "cell_type": "code",
   "execution_count": 26,
   "metadata": {},
   "outputs": [
    {
     "data": {
      "application/javascript": [
       "window.require && require([\"base/js/namespace\"],function(Jupyter){Jupyter.notebook.save_checkpoint()})"
      ],
      "text/plain": [
       "<IPython.core.display.Javascript object>"
      ]
     },
     "metadata": {},
     "output_type": "display_data"
    },
    {
     "name": "stdout",
     "output_type": "stream",
     "text": [
      "[jovian] Updating notebook \"sauravsevda123/stockmarket-analysis-d2a62\" on https://jovian.com/\u001b[0m\n",
      "[jovian] Committed successfully! https://jovian.com/sauravsevda123/stockmarket-analysis-d2a62\u001b[0m\n"
     ]
    },
    {
     "data": {
      "text/plain": [
       "'https://jovian.com/sauravsevda123/stockmarket-analysis-d2a62'"
      ]
     },
     "execution_count": 26,
     "metadata": {},
     "output_type": "execute_result"
    }
   ],
   "source": [
    "jovian.commit()"
   ]
  },
  {
   "cell_type": "code",
   "execution_count": 27,
   "metadata": {},
   "outputs": [
    {
     "data": {
      "text/html": [
       "<div>\n",
       "<style scoped>\n",
       "    .dataframe tbody tr th:only-of-type {\n",
       "        vertical-align: middle;\n",
       "    }\n",
       "\n",
       "    .dataframe tbody tr th {\n",
       "        vertical-align: top;\n",
       "    }\n",
       "\n",
       "    .dataframe thead th {\n",
       "        text-align: right;\n",
       "    }\n",
       "</style>\n",
       "<table border=\"1\" class=\"dataframe\">\n",
       "  <thead>\n",
       "    <tr style=\"text-align: right;\">\n",
       "      <th></th>\n",
       "      <th>Close</th>\n",
       "    </tr>\n",
       "  </thead>\n",
       "  <tbody>\n",
       "    <tr>\n",
       "      <th>2402</th>\n",
       "      <td>59.349998</td>\n",
       "    </tr>\n",
       "    <tr>\n",
       "      <th>2403</th>\n",
       "      <td>58.000000</td>\n",
       "    </tr>\n",
       "    <tr>\n",
       "      <th>2404</th>\n",
       "      <td>58.200001</td>\n",
       "    </tr>\n",
       "    <tr>\n",
       "      <th>2405</th>\n",
       "      <td>61.450001</td>\n",
       "    </tr>\n",
       "    <tr>\n",
       "      <th>2406</th>\n",
       "      <td>61.599998</td>\n",
       "    </tr>\n",
       "  </tbody>\n",
       "</table>\n",
       "</div>"
      ],
      "text/plain": [
       "          Close\n",
       "2402  59.349998\n",
       "2403  58.000000\n",
       "2404  58.200001\n",
       "2405  61.450001\n",
       "2406  61.599998"
      ]
     },
     "execution_count": 27,
     "metadata": {},
     "output_type": "execute_result"
    }
   ],
   "source": [
    "data_testing.head()"
   ]
  },
  {
   "cell_type": "code",
   "execution_count": 28,
   "metadata": {},
   "outputs": [
    {
     "data": {
      "text/html": [
       "<div>\n",
       "<style scoped>\n",
       "    .dataframe tbody tr th:only-of-type {\n",
       "        vertical-align: middle;\n",
       "    }\n",
       "\n",
       "    .dataframe tbody tr th {\n",
       "        vertical-align: top;\n",
       "    }\n",
       "\n",
       "    .dataframe thead th {\n",
       "        text-align: right;\n",
       "    }\n",
       "</style>\n",
       "<table border=\"1\" class=\"dataframe\">\n",
       "  <thead>\n",
       "    <tr style=\"text-align: right;\">\n",
       "      <th></th>\n",
       "      <th>Close</th>\n",
       "    </tr>\n",
       "  </thead>\n",
       "  <tbody>\n",
       "    <tr>\n",
       "      <th>2302</th>\n",
       "      <td>64.500000</td>\n",
       "    </tr>\n",
       "    <tr>\n",
       "      <th>2303</th>\n",
       "      <td>64.400002</td>\n",
       "    </tr>\n",
       "    <tr>\n",
       "      <th>2304</th>\n",
       "      <td>63.799999</td>\n",
       "    </tr>\n",
       "    <tr>\n",
       "      <th>2305</th>\n",
       "      <td>62.599998</td>\n",
       "    </tr>\n",
       "    <tr>\n",
       "      <th>2306</th>\n",
       "      <td>63.200001</td>\n",
       "    </tr>\n",
       "    <tr>\n",
       "      <th>...</th>\n",
       "      <td>...</td>\n",
       "    </tr>\n",
       "    <tr>\n",
       "      <th>2397</th>\n",
       "      <td>63.799999</td>\n",
       "    </tr>\n",
       "    <tr>\n",
       "      <th>2398</th>\n",
       "      <td>63.650002</td>\n",
       "    </tr>\n",
       "    <tr>\n",
       "      <th>2399</th>\n",
       "      <td>62.099998</td>\n",
       "    </tr>\n",
       "    <tr>\n",
       "      <th>2400</th>\n",
       "      <td>62.500000</td>\n",
       "    </tr>\n",
       "    <tr>\n",
       "      <th>2401</th>\n",
       "      <td>59.349998</td>\n",
       "    </tr>\n",
       "  </tbody>\n",
       "</table>\n",
       "<p>100 rows × 1 columns</p>\n",
       "</div>"
      ],
      "text/plain": [
       "          Close\n",
       "2302  64.500000\n",
       "2303  64.400002\n",
       "2304  63.799999\n",
       "2305  62.599998\n",
       "2306  63.200001\n",
       "...         ...\n",
       "2397  63.799999\n",
       "2398  63.650002\n",
       "2399  62.099998\n",
       "2400  62.500000\n",
       "2401  59.349998\n",
       "\n",
       "[100 rows x 1 columns]"
      ]
     },
     "execution_count": 28,
     "metadata": {},
     "output_type": "execute_result"
    }
   ],
   "source": [
    "# for predicting the data for future we need past 100 day data which we can get from testing data\n",
    "past_100_days = data_tarining.tail(100)\n",
    "past_100_days"
   ]
  },
  {
   "cell_type": "code",
   "execution_count": 29,
   "metadata": {},
   "outputs": [],
   "source": [
    "final_df = past_100_days.append(data_testing, ignore_index=True)"
   ]
  },
  {
   "cell_type": "code",
   "execution_count": 30,
   "metadata": {},
   "outputs": [
    {
     "data": {
      "text/html": [
       "<div>\n",
       "<style scoped>\n",
       "    .dataframe tbody tr th:only-of-type {\n",
       "        vertical-align: middle;\n",
       "    }\n",
       "\n",
       "    .dataframe tbody tr th {\n",
       "        vertical-align: top;\n",
       "    }\n",
       "\n",
       "    .dataframe thead th {\n",
       "        text-align: right;\n",
       "    }\n",
       "</style>\n",
       "<table border=\"1\" class=\"dataframe\">\n",
       "  <thead>\n",
       "    <tr style=\"text-align: right;\">\n",
       "      <th></th>\n",
       "      <th>Close</th>\n",
       "    </tr>\n",
       "  </thead>\n",
       "  <tbody>\n",
       "    <tr>\n",
       "      <th>0</th>\n",
       "      <td>64.500000</td>\n",
       "    </tr>\n",
       "    <tr>\n",
       "      <th>1</th>\n",
       "      <td>64.400002</td>\n",
       "    </tr>\n",
       "    <tr>\n",
       "      <th>2</th>\n",
       "      <td>63.799999</td>\n",
       "    </tr>\n",
       "    <tr>\n",
       "      <th>3</th>\n",
       "      <td>62.599998</td>\n",
       "    </tr>\n",
       "    <tr>\n",
       "      <th>4</th>\n",
       "      <td>63.200001</td>\n",
       "    </tr>\n",
       "  </tbody>\n",
       "</table>\n",
       "</div>"
      ],
      "text/plain": [
       "       Close\n",
       "0  64.500000\n",
       "1  64.400002\n",
       "2  63.799999\n",
       "3  62.599998\n",
       "4  63.200001"
      ]
     },
     "execution_count": 30,
     "metadata": {},
     "output_type": "execute_result"
    }
   ],
   "source": [
    "final_df.head()"
   ]
  },
  {
   "cell_type": "code",
   "execution_count": 31,
   "metadata": {},
   "outputs": [
    {
     "data": {
      "text/plain": [
       "array([[0.14171429],\n",
       "       [0.14133335],\n",
       "       [0.13904763],\n",
       "       ...,\n",
       "       [0.88933338],\n",
       "       [0.87942859],\n",
       "       [0.92761904]])"
      ]
     },
     "execution_count": 31,
     "metadata": {},
     "output_type": "execute_result"
    }
   ],
   "source": [
    "input_data = scaler.fit_transform(final_df)\n",
    "input_data"
   ]
  },
  {
   "cell_type": "code",
   "execution_count": 32,
   "metadata": {},
   "outputs": [
    {
     "data": {
      "text/plain": [
       "(1130, 1)"
      ]
     },
     "execution_count": 32,
     "metadata": {},
     "output_type": "execute_result"
    }
   ],
   "source": [
    "input_data.shape"
   ]
  },
  {
   "cell_type": "code",
   "execution_count": 33,
   "metadata": {},
   "outputs": [],
   "source": [
    "x_test=[]\n",
    "y_test=[]\n",
    "\n",
    "for i in range(100, input_data.shape[0]):\n",
    "    x_test.append(input_data[i-100 : i])\n",
    "    y_test.append(input_data[i,0])"
   ]
  },
  {
   "cell_type": "code",
   "execution_count": 34,
   "metadata": {},
   "outputs": [
    {
     "name": "stdout",
     "output_type": "stream",
     "text": [
      "(1030, 100, 1)\n",
      "(1030,)\n"
     ]
    }
   ],
   "source": [
    "x_test,y_test = np.array(x_test), np.array(y_test)\n",
    "print(x_test.shape)\n",
    "print(y_test.shape)"
   ]
  },
  {
   "cell_type": "code",
   "execution_count": 35,
   "metadata": {},
   "outputs": [
    {
     "name": "stdout",
     "output_type": "stream",
     "text": [
      "33/33 [==============================] - 4s 94ms/step\n"
     ]
    }
   ],
   "source": [
    "# Making predictions\n",
    "y_predicted = model.predict(x_test)"
   ]
  },
  {
   "cell_type": "code",
   "execution_count": 36,
   "metadata": {},
   "outputs": [
    {
     "data": {
      "text/plain": [
       "(1030, 1)"
      ]
     },
     "execution_count": 36,
     "metadata": {},
     "output_type": "execute_result"
    }
   ],
   "source": [
    "y_predicted.shape"
   ]
  },
  {
   "cell_type": "code",
   "execution_count": 37,
   "metadata": {},
   "outputs": [
    {
     "data": {
      "text/plain": [
       "array([0.12209524, 0.11695239, 0.1177143 , ..., 0.88933338, 0.87942859,\n",
       "       0.92761904])"
      ]
     },
     "execution_count": 37,
     "metadata": {},
     "output_type": "execute_result"
    }
   ],
   "source": [
    "y_test"
   ]
  },
  {
   "cell_type": "code",
   "execution_count": 38,
   "metadata": {},
   "outputs": [
    {
     "data": {
      "text/plain": [
       "array([[0.20607819],\n",
       "       [0.2032377 ],\n",
       "       [0.2002828 ],\n",
       "       ...,\n",
       "       [0.8261045 ],\n",
       "       [0.823416  ],\n",
       "       [0.8184631 ]], dtype=float32)"
      ]
     },
     "execution_count": 38,
     "metadata": {},
     "output_type": "execute_result"
    }
   ],
   "source": [
    "y_predicted"
   ]
  },
  {
   "cell_type": "code",
   "execution_count": 39,
   "metadata": {},
   "outputs": [
    {
     "data": {
      "text/plain": [
       "array([0.00380952])"
      ]
     },
     "execution_count": 39,
     "metadata": {},
     "output_type": "execute_result"
    }
   ],
   "source": [
    "scaler.scale_"
   ]
  },
  {
   "cell_type": "code",
   "execution_count": 40,
   "metadata": {},
   "outputs": [],
   "source": [
    "scale_factor = 1/0.00380952\n",
    "y_predicted = y_predicted*scale_factor\n",
    "y_test = y_test*scale_factor"
   ]
  },
  {
   "cell_type": "code",
   "execution_count": 41,
   "metadata": {},
   "outputs": [
    {
     "data": {
      "image/png": "[encoded data removed]",
      "text/plain": [
       "<Figure size 864x432 with 1 Axes>"
      ]
     },
     "metadata": {
      "needs_background": "light"
     },
     "output_type": "display_data"
    }
   ],
   "source": [
    "plt.figure(figsize=(12,6))\n",
    "plt.plot(y_test, 'b', label = 'Original Price')\n",
    "plt.plot(y_predicted, 'r', label = 'Predicted Price')\n",
    "plt.xlabel('Time')\n",
    "plt.ylabel('Price')\n",
    "plt.legend()\n",
    "plt.show()"
   ]
  },
  {
   "cell_type": "code",
   "execution_count": null,
   "metadata": {},
   "outputs": [],
   "source": []
  }
 ],
 "metadata": {
  "kernelspec": {
   "display_name": "Python 3 (ipykernel)",
   "language": "python",
   "name": "python3"
  },
  "language_info": {
   "codemirror_mode": {
    "name": "ipython",
    "version": 3
   },
   "file_extension": ".py",
   "mimetype": "text/x-python",
   "name": "python",
   "nbconvert_exporter": "python",
   "pygments_lexer": "ipython3",
   "version": "3.9.7"
  }
 },
 "nbformat": 4,
 "nbformat_minor": 2
}
